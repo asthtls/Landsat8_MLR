{
 "cells": [
  {
   "cell_type": "code",
   "execution_count": 1,
   "metadata": {},
   "outputs": [],
   "source": [
    "#  1500x1500 사이즈 rmse, r2 비교하기 \n",
    "\n",
    "import numpy as np\n",
    "from osgeo import gdal\n",
    "from sklearn.metrics import r2_score,mean_squared_error\n",
    "from skimage.metrics import structural_similarity as ssim"
   ]
  },
  {
   "cell_type": "code",
   "execution_count": 2,
   "metadata": {},
   "outputs": [],
   "source": [
    "# 이미지 불러오기\n",
    "real_path = './Landsat_image/115-34_original_subset_band/20220121.tif'\n",
    "hien_path = './Simulation_python/115-34/20220121_hien.tif'\n",
    "three_path = './Simulation_python/115-34/20220121_3by3.tif'\n",
    "r2_path = './Simulation_python/115-34/20220121_r2.tif'\n",
    "landcover_path ='./Simulation_python/115-34/20220121_landcover.tif'\n",
    "\n",
    "qa_path = './Landsat_image/115-34_original_qa_band/20220121_qa_pixel.tif'\n",
    "\n",
    "pixel_value = [0,22080, 22280,24088, 24344, 24216, 24472, 30048,54596, 54852, 55052, 56856, 56984, 57240]"
   ]
  },
  {
   "cell_type": "code",
   "execution_count": 3,
   "metadata": {},
   "outputs": [
    {
     "name": "stdout",
     "output_type": "stream",
     "text": [
      "(1500, 1500)\n",
      "(6,) (6,) (6,) (6,) (6,)\n"
     ]
    },
    {
     "name": "stderr",
     "output_type": "stream",
     "text": [
      "c:\\Users\\Lee\\anaconda3\\envs\\gdal\\lib\\site-packages\\ipykernel_launcher.py:45: VisibleDeprecationWarning: Creating an ndarray from ragged nested sequences (which is a list-or-tuple of lists-or-tuples-or ndarrays with different lengths or shapes) is deprecated. If you meant to do this, you must specify 'dtype=object' when creating the ndarray.\n"
     ]
    }
   ],
   "source": [
    "def img_to_array(img_path, qa_band=False):\n",
    "    img_arr = gdal.Open(img_path)\n",
    "    if qa_band:\n",
    "        img_arr = img_arr.ReadAsArray()\n",
    "        print(img_arr.shape)\n",
    "        img_arr = img_arr[1:-1, 1:-1]\n",
    "        img_arr = np.reshape(img_arr, (-1))\n",
    "        return img_arr    \n",
    "    else:\n",
    "        img_arr = img_arr.ReadAsArray()\n",
    "        img_arr = img_arr[:, 1:-1, 1:-1]\n",
    "        img_arr = np.reshape(img_arr,  (len(img_arr), -1))\n",
    "        return img_arr\n",
    "\n",
    "def qa_band_remove(qa_data, pixel_value):\n",
    "    qa_mask_index = np.isin(qa_data, pixel_value)\n",
    "    return np.where(qa_mask_index)[0]\n",
    "\n",
    "def arr_to_remove(img_arr, qa_arr):\n",
    "    # 6개 밴드 qa_arr 제거\n",
    "    for i in range(len(img_arr)):\n",
    "        tmp_arr = np.delete(img_arr[i], qa_arr)\n",
    "\n",
    "        if i == 0:\n",
    "            return_arr = tmp_arr\n",
    "        else:\n",
    "            return_arr = np.vstack((return_arr, tmp_arr))\n",
    "    \n",
    "    return return_arr\n",
    "\n",
    "def get_pixel_index(real_img):\n",
    "    index_list = []\n",
    "    for i in range(6):\n",
    "        # 각 밴드마다의 7273 43636 구간의 index를 가져옴\n",
    "        index = np.where((real_img[i] >= 7273) & (real_img[i] <= 43636))[0]\n",
    "        index_list.append(index)\n",
    "    return index_list\n",
    "\n",
    "def extract_pixel_values(img_arr, index_range):\n",
    "    extracted_values = []\n",
    "    for i in range(len(img_arr)):\n",
    "        band = img_arr[i]\n",
    "        extracted_band = band[index_range[i]]\n",
    "        extracted_values.append(extracted_band)\n",
    "    return np.array(extracted_values)\n",
    "\n",
    "real_img = img_to_array(real_path)\n",
    "hien_img = img_to_array(hien_path)\n",
    "three_img = img_to_array(three_path)\n",
    "r2_img = img_to_array(r2_path)\n",
    "land_img = img_to_array(landcover_path)\n",
    "\n",
    "\n",
    "qa_image = img_to_array(qa_path, qa_band=True)\n",
    "qa_arr = qa_band_remove(qa_image, pixel_value)\n",
    "\n",
    "real_img = arr_to_remove(real_img, qa_arr)\n",
    "hien_img = arr_to_remove(hien_img, qa_arr)\n",
    "three_img = arr_to_remove(three_img, qa_arr)\n",
    "r2_img = arr_to_remove(r2_img, qa_arr)\n",
    "land_img = arr_to_remove(land_img, qa_arr)\n",
    "\n",
    "invaild_pixel = get_pixel_index(real_img)\n",
    "\n",
    "real_img = extract_pixel_values(real_img, invaild_pixel)\n",
    "hien_img = extract_pixel_values(hien_img, invaild_pixel)\n",
    "three_img = extract_pixel_values(three_img, invaild_pixel)\n",
    "r2_img = extract_pixel_values(r2_img, invaild_pixel)\n",
    "land_img = extract_pixel_values(land_img, invaild_pixel)\n",
    "\n",
    "print(real_img.shape, hien_img.shape, three_img.shape, r2_img.shape, land_img.shape) # r2_dtype_img.shape, landcover_img.shape"
   ]
  },
  {
   "cell_type": "code",
   "execution_count": 4,
   "metadata": {},
   "outputs": [
    {
     "name": "stdout",
     "output_type": "stream",
     "text": [
      "band:  2\n",
      "rmse, r2, ssim (hien): 158.5651666104703 0.993308819636367 0.55211032668575\n",
      "rmse, r2, ssim (3by3): 158.79184116859523 0.9932896754007494 0.3064806677784605\n",
      "rmse, r2, ssim (r2): 158.6962968992569 0.993297748109937 0.3374058835822571\n",
      "rmse, r2, ssim (landcover): 163.72784661780136 0.9928660138794217 0.5111273267931635\n",
      "band:  3\n",
      "rmse, r2, ssim (hien): 161.46860468792823 0.9943135423767036 0.6718768414407146\n",
      "rmse, r2, ssim (3by3): 162.37772713973698 0.9942493287812333 0.43199531297162397\n",
      "rmse, r2, ssim (r2): 162.24297947312482 0.9942588691045812 0.507706749255988\n",
      "rmse, r2, ssim (landcover): 166.01639714660064 0.9939887112231656 0.6160028932775725\n",
      "band:  4\n",
      "rmse, r2, ssim (hien): 165.25354193679553 0.995728829829375 0.7091687396150299\n",
      "rmse, r2, ssim (3by3): 165.3771319870211 0.9957224387829461 0.5756159493245229\n",
      "rmse, r2, ssim (r2): 165.19826618938552 0.9957316866835815 0.6156743170863255\n",
      "rmse, r2, ssim (landcover): 170.09076272518942 0.9954751229946656 0.6526092371005521\n",
      "band:  5\n",
      "rmse, r2, ssim (hien): 173.85742014853503 0.9977002553847002 0.8434316686528138\n",
      "rmse, r2, ssim (3by3): 173.97602206610915 0.9976971166385407 0.7803517086991312\n",
      "rmse, r2, ssim (r2): 173.95951650740676 0.9976975535789073 0.7837138144040847\n",
      "rmse, r2, ssim (landcover): 176.6645034392928 0.9976253930039531 0.7936406769941742\n"
     ]
    }
   ],
   "source": [
    "import numpy as np\n",
    "\n",
    "for i in range(4):\n",
    "    # 각 밴드에 대한 데이터 추출\n",
    "    print(\"band: \", i+2)\n",
    "    \n",
    "    real_band = real_img[i]\n",
    "    hien_band = hien_img[i]\n",
    "    three_band = three_img[i]\n",
    "    r2_band = r2_img[i]\n",
    "    land_band = land_img[i]\n",
    "\n",
    "    hien_corr_coef = np.corrcoef(real_band.flatten(), hien_band.flatten())[0, 1]\n",
    "    three_corr_coef = np.corrcoef(real_band.flatten(), three_band.flatten())[0, 1]\n",
    "    r2_corr_coef = np.corrcoef(real_band.flatten(), r2_band.flatten())[0, 1]\n",
    "    landcover_corr_coef = np.corrcoef(real_band.flatten(), land_band.flatten())[0, 1]\n",
    "\n",
    "    print(\"rmse, r2, ssim (hien):\", mean_squared_error(real_band, hien_band)**0.5, r2_score(real_band, hien_band), hien_corr_coef)\n",
    "    print(\"rmse, r2, ssim (3by3):\", mean_squared_error(real_band, three_band)**0.5, r2_score(real_band, three_band), three_corr_coef)\n",
    "    print(\"rmse, r2, ssim (r2):\", mean_squared_error(real_band, r2_band)**0.5, r2_score(real_band, r2_band), r2_corr_coef)\n",
    "    print(\"rmse, r2, ssim (landcover):\", mean_squared_error(real_band, land_band)**0.5, r2_score(real_band, land_band), landcover_corr_coef)\n"
   ]
  },
  {
   "cell_type": "code",
   "execution_count": 24,
   "metadata": {},
   "outputs": [
    {
     "name": "stdout",
     "output_type": "stream",
     "text": [
      "band  :  2\n"
     ]
    },
    {
     "ename": "IndexError",
     "evalue": "invalid index to scalar variable.",
     "output_type": "error",
     "traceback": [
      "\u001b[1;31m---------------------------------------------------------------------------\u001b[0m",
      "\u001b[1;31mIndexError\u001b[0m                                Traceback (most recent call last)",
      "\u001b[1;32m~\\AppData\\Local\\Temp\\ipykernel_28192\\1777005744.py\u001b[0m in \u001b[0;36m<module>\u001b[1;34m\u001b[0m\n\u001b[0;32m     21\u001b[0m     \u001b[0met_r2_band\u001b[0m \u001b[1;33m=\u001b[0m \u001b[0mr2_band\u001b[0m\u001b[1;33m[\u001b[0m\u001b[0msame_r2_three_indices\u001b[0m\u001b[1;33m]\u001b[0m\u001b[1;33m\u001b[0m\u001b[1;33m\u001b[0m\u001b[0m\n\u001b[0;32m     22\u001b[0m     \u001b[0met_hien_band\u001b[0m \u001b[1;33m=\u001b[0m \u001b[0mhien_band\u001b[0m\u001b[1;33m[\u001b[0m\u001b[0msame_r2_three_indices\u001b[0m\u001b[1;33m]\u001b[0m\u001b[1;33m\u001b[0m\u001b[1;33m\u001b[0m\u001b[0m\n\u001b[1;32m---> 23\u001b[1;33m     \u001b[0met_land_band\u001b[0m \u001b[1;33m=\u001b[0m \u001b[0mland_band\u001b[0m\u001b[1;33m[\u001b[0m\u001b[0msame_r2_three_indices\u001b[0m\u001b[1;33m]\u001b[0m\u001b[1;33m\u001b[0m\u001b[1;33m\u001b[0m\u001b[0m\n\u001b[0m\u001b[0;32m     24\u001b[0m \u001b[1;33m\u001b[0m\u001b[0m\n\u001b[0;32m     25\u001b[0m     \u001b[0mprint\u001b[0m\u001b[1;33m(\u001b[0m\u001b[0met_real_band\u001b[0m\u001b[1;33m.\u001b[0m\u001b[0mshape\u001b[0m\u001b[1;33m,\u001b[0m \u001b[0met_three_band\u001b[0m\u001b[1;33m.\u001b[0m\u001b[0mshape\u001b[0m\u001b[1;33m,\u001b[0m \u001b[0met_r2_band\u001b[0m\u001b[1;33m.\u001b[0m\u001b[0mshape\u001b[0m\u001b[1;33m,\u001b[0m \u001b[0met_hien_band\u001b[0m\u001b[1;33m.\u001b[0m\u001b[0mshape\u001b[0m\u001b[1;33m)\u001b[0m\u001b[1;33m\u001b[0m\u001b[1;33m\u001b[0m\u001b[0m\n",
      "\u001b[1;31mIndexError\u001b[0m: invalid index to scalar variable."
     ]
    }
   ],
   "source": [
    "from sklearn.metrics import mean_squared_error\n",
    "\n",
    "# 영상 테두리 제거 전 3x3 선택 부분 \n",
    "# 모든 픽셀 기준 \n",
    "for i in range(4):\n",
    "    # 각 밴드에 대한 데이터 추출\n",
    "    print(\"band  : \", i+2)\n",
    "    \n",
    "    real_band = real_img[i]\n",
    "    hien_band = hien_img[i]\n",
    "    three_band = three_img[i]\n",
    "    r2_band = r2_img[i]\n",
    "    land_band = land_band[i]\n",
    "    # 모든 픽셀 기준\n",
    "    # same_r2_hien_indices = np.where(slide_r2_band == slide_hien_band)[0]\n",
    "    same_r2_three_indices = np.where(r2_band == three_band)[0]\n",
    "\n",
    "    # 해당하는 인덱스를 사용하여 값을 추출\n",
    "    et_real_band = real_band[same_r2_three_indices]\n",
    "    et_three_band = three_band[same_r2_three_indices]\n",
    "    et_r2_band = r2_band[same_r2_three_indices]\n",
    "    et_hien_band = hien_band[same_r2_three_indices]\n",
    "    et_land_band = land_band[same_r2_three_indices]\n",
    "\n",
    "    print(et_real_band.shape, et_three_band.shape, et_r2_band.shape, et_hien_band.shape)\n",
    "\n",
    "    # 상관 계수 계산\n",
    "    corr_coef_hien = np.corrcoef(et_real_band.flatten(), et_hien_band.flatten())[0, 1]\n",
    "    corr_coef_three = np.corrcoef(et_real_band.flatten(), et_three_band.flatten())[0, 1]\n",
    "    corr_coef_r2 = np.corrcoef(et_real_band.flatten(), et_r2_band.flatten())[0, 1]\n",
    "    corr_coef_land = np.corrcoef(et_real_band.flatten(), et_r2_band.flatten())[0, 1]\n",
    "\n",
    "    # 출력\n",
    "    print(\"RMSE, Correlation Coefficient (hien):\", mean_squared_error(et_real_band, et_hien_band)**0.5, corr_coef_hien)\n",
    "    print(\"RMSE, Correlation Coefficient (three):\", mean_squared_error(et_real_band, et_three_band)**0.5, corr_coef_three)\n",
    "    print(\"RMSE, Correlation Coefficient (r2):\", mean_squared_error(et_real_band, et_r2_band)**0.5, corr_coef_r2)\n",
    "    print(\"RMSE, Correlation Coefficient (land):\", mean_squared_error(et_real_band, et_land_band)**0.5, corr_coef_land)\n",
    "    \n",
    "    "
   ]
  },
  {
   "cell_type": "code",
   "execution_count": 16,
   "metadata": {},
   "outputs": [
    {
     "name": "stdout",
     "output_type": "stream",
     "text": [
      "(1504, 1497)\n",
      "(6, 2245310) (6, 2245310) (6, 2245310) (6, 2245310) (6, 2245310)\n"
     ]
    }
   ],
   "source": [
    "\n",
    "def slide_img_to_array(img_path, qa_band=False):\n",
    "    img_arr = gdal.Open(img_path)\n",
    "    if qa_band:\n",
    "        img_arr = img_arr.ReadAsArray()\n",
    "        print(img_arr.shape)\n",
    "        img_arr = img_arr[1:-1, 1:-1]\n",
    "        img_arr = np.reshape(img_arr, (-1))\n",
    "        return img_arr    \n",
    "    else:\n",
    "        img_arr = img_arr.ReadAsArray()\n",
    "        img_arr = img_arr[:, 1:-1, 1:-1]\n",
    "        img_arr = np.reshape(img_arr,  (len(img_arr), -1))\n",
    "        return img_arr\n",
    "\n",
    "def slide_qa_band_remove(qa_data, pixel_value):\n",
    "    qa_mask_index = np.isin(qa_data, pixel_value)\n",
    "    return np.where(qa_mask_index)[0]\n",
    "\n",
    "def slide_arr_to_remove(img_arr, qa_arr):\n",
    "    # 6개 밴드 qa_arr 제거\n",
    "    for i in range(len(img_arr)):\n",
    "        tmp_arr = np.delete(img_arr[i], qa_arr)\n",
    "\n",
    "        if i == 0:\n",
    "            return_arr = tmp_arr\n",
    "        else:\n",
    "            return_arr = np.vstack((return_arr, tmp_arr))\n",
    "    \n",
    "    return return_arr\n",
    "\n",
    "slide_real_img = slide_img_to_array(real_path)\n",
    "slide_hien_img = slide_img_to_array(hien_path)\n",
    "slide_three_img = slide_img_to_array(three_path)\n",
    "slide_r2_img = slide_img_to_array(r2_path)\n",
    "\n",
    "slide_r2_dtype_img = slide_img_to_array(landcover_path)\n",
    "\n",
    "slide_qa_image = slide_img_to_array(qa_path, qa_band=True)\n",
    "slide_qa_arr = slide_qa_band_remove(slide_qa_image, pixel_value)\n",
    "\n",
    "slide_real_img = slide_arr_to_remove(slide_real_img, slide_qa_arr)\n",
    "slide_hien_img = slide_arr_to_remove(slide_hien_img, slide_qa_arr)\n",
    "slide_three_img = slide_arr_to_remove(slide_three_img, slide_qa_arr)\n",
    "slide_r2_img = slide_arr_to_remove(slide_r2_img, slide_qa_arr)\n",
    "slide_r2_dtype_img = slide_arr_to_remove(slide_r2_dtype_img, slide_qa_arr)\n",
    "\n",
    "print(slide_real_img.shape, slide_hien_img.shape, slide_three_img.shape, slide_r2_img.shape, slide_r2_dtype_img.shape) # r2_dtype_img.shape, landcover_img.shape"
   ]
  },
  {
   "cell_type": "code",
   "execution_count": 17,
   "metadata": {},
   "outputs": [
    {
     "name": "stdout",
     "output_type": "stream",
     "text": [
      "band  :  2\n",
      "rmse, r2, ssim (hien) :  173.9422425936295 0.9609029541663917 0.9777221968277882\n",
      "rmse, r2, ssim (3by3) :  174.81001825632077 0.9316813639440817 0.9557739903174877\n",
      "rmse, r2, ssim (r2) :  173.814391974122 0.9576369570513792 0.9753326712700382\n",
      "rmse, r2, ssim (r2_dtype) :  177.09076475918775 0.9101797964407299 0.9624971370229226\n",
      "band  :  3\n",
      "rmse, r2, ssim (hien) :  173.82963210412925 0.9673162443466051 0.9747008121129768\n",
      "rmse, r2, ssim (3by3) :  173.93372294512992 0.9442223286081912 0.9486049235573171\n",
      "rmse, r2, ssim (r2) :  173.59830427634603 0.9642857614185526 0.9714556593898401\n",
      "rmse, r2, ssim (r2_dtype) :  178.45231702755564 0.9179789143984377 0.9517305680931653\n",
      "band  :  4\n",
      "rmse, r2, ssim (hien) :  177.34484337631835 0.9604835774472523 0.9613142553435186\n",
      "rmse, r2, ssim (3by3) :  177.30127305840875 0.9306739477690419 0.9220714284362811\n",
      "rmse, r2, ssim (r2) :  177.20880458861993 0.9577026542328557 0.9578851522338854\n",
      "rmse, r2, ssim (r2_dtype) :  177.126823629768 0.9073467325591064 0.9314597998351197\n",
      "band  :  5\n",
      "rmse, r2, ssim (hien) :  172.60398722024715 0.9123798257462795 0.9072981591275661\n",
      "rmse, r2, ssim (3by3) :  176.30133476068005 0.82088192052288 0.8308738408271381\n",
      "rmse, r2, ssim (r2) :  172.6436208506578 0.9101153261200516 0.9042055171135448\n",
      "rmse, r2, ssim (r2_dtype) :  177.77751174477652 0.8470006699002542 0.81008460968254\n"
     ]
    }
   ],
   "source": [
    "# 모든 픽셀 기준 \n",
    "for i in range(4):\n",
    "    # 각 밴드에 대한 데이터 추출\n",
    "    print(\"band  : \", i+2)\n",
    "    \n",
    "    slide_real_band = slide_real_img[i]\n",
    "    slide_hien_band = slide_hien_img[i]\n",
    "    slide_three_band = slide_three_img[i]\n",
    "    slide_r2_band = slide_r2_img[i]\n",
    "    slide_r2_dtype_band = slide_r2_dtype_img[i]\n",
    "\n",
    "    slide_hien_corr_coef = np.corrcoef(slide_real_band.flatten(), slide_hien_band.flatten())[0,1]\n",
    "    slide_three_corr_coef = np.corrcoef(slide_real_band.flatten(), slide_three_band.flatten())[0,1]\n",
    "    slide_r2_corr_coef = np.corrcoef(slide_real_band.flatten(), slide_r2_band.flatten())[0, 1]\n",
    "    slide_r2_dtype_corr_coef = np.corrcoef(slide_real_band.flatten(), slide_r2_dtype_band.flatten())[0,1]\n",
    "\n",
    "    print(\"rmse, r2, ssim (hien) : \", mean_squared_error(slide_real_band, slide_hien_band)**0.5, slide_hien_corr_coef, ssim(slide_real_band, slide_hien_band, data_range=real_band.max()-real_band.min()))\n",
    "    print(\"rmse, r2, ssim (3by3) : \", mean_squared_error(slide_real_band, slide_three_band)**0.5, slide_three_corr_coef, ssim(slide_real_band, slide_three_band, data_range=real_band.max()-real_band.min()))\n",
    "    print(\"rmse, r2, ssim (r2) : \", mean_squared_error(slide_real_band, slide_r2_band)**0.5, slide_r2_corr_coef, ssim(slide_real_band, slide_r2_band, data_range=real_band.max()-real_band.min()))\n",
    "    print(\"rmse, r2, ssim (r2_dtype) : \", mean_squared_error(slide_real_band, slide_r2_dtype_band)**0.5, slide_r2_dtype_corr_coef, ssim(slide_real_band, slide_r2_dtype_band, data_range=real_band.max()-real_band.min()))\n",
    "    \n"
   ]
  },
  {
   "cell_type": "code",
   "execution_count": 35,
   "metadata": {},
   "outputs": [
    {
     "name": "stdout",
     "output_type": "stream",
     "text": [
      "band  :  2\n",
      "(1105023,) (1105023,) (1105023,) (1105023,)\n",
      "RMSE, Correlation Coefficient (hien): 123.26856225557815 0.944890064874843 0.9839234668780299\n",
      "RMSE, Correlation Coefficient (three): 133.52337697498857 0.9192104330913426 0.9811373653178536\n",
      "RMSE, Correlation Coefficient (r2): 133.52337697498857 0.9192104330913426 0.9811373653178536\n",
      "band  :  3\n",
      "(1138291,) (1138291,) (1138291,) (1138291,)\n",
      "RMSE, Correlation Coefficient (hien): 130.77378218390908 0.9475543225095315 0.9878808750073395\n",
      "RMSE, Correlation Coefficient (three): 144.09594398333994 0.9240227292858162 0.9852859099776856\n",
      "RMSE, Correlation Coefficient (r2): 144.09594398333994 0.9240227292858162 0.9852859099776856\n",
      "band  :  4\n",
      "(1049391,) (1049391,) (1049391,) (1049391,)\n",
      "RMSE, Correlation Coefficient (hien): 145.97591744890272 0.9531242500628906 0.9910085582969282\n",
      "RMSE, Correlation Coefficient (three): 160.8213856263186 0.9300141745528789 0.9890867399199578\n",
      "RMSE, Correlation Coefficient (r2): 160.8213856263186 0.9300141745528789 0.9890867399199578\n",
      "band  :  5\n",
      "(572777,) (572777,) (572777,) (572777,)\n",
      "RMSE, Correlation Coefficient (hien): 171.96185413522565 0.9367570994065383 0.9959138293251113\n",
      "RMSE, Correlation Coefficient (three): 175.2358061414601 0.9142865216763931 0.9957567563886373\n",
      "RMSE, Correlation Coefficient (r2): 175.2358061414601 0.9142865216763931 0.9957567563886373\n"
     ]
    }
   ],
   "source": [
    "from sklearn.metrics import mean_squared_error\n",
    "\n",
    "# 3x3 선택 픽셀 기준  영상 테두리 제거 후 \n",
    "for i in range(4):\n",
    "    # 각 밴드에 대한 데이터 추출\n",
    "    print(\"band  : \", i+2)\n",
    "    \n",
    "    slide_real_band = slide_real_img[i]\n",
    "    slide_hien_band = slide_hien_img[i]\n",
    "    slide_three_band = slide_three_img[i]\n",
    "    slide_r2_band = slide_r2_img[i]\n",
    "    slide_r2_dtype_band = slide_r2_dtype_img[i]\n",
    "\n",
    "    same_r2_three_indices = np.where(slide_r2_band == slide_three_band)[0]\n",
    "    # 해당하는 인덱스를 사용하여 값을 추출\n",
    "    extracted_real_band = slide_real_band[same_r2_three_indices]\n",
    "    extracted_three_band = slide_three_band[same_r2_three_indices]\n",
    "    extracted_r2_band = slide_r2_band[same_r2_three_indices]\n",
    "    extracted_hien_band = slide_hien_band[same_r2_three_indices]\n",
    "\n",
    "    print(extracted_hien_band.shape, extracted_three_band.shape, extracted_real_band.shape, extracted_r2_band.shape)\n",
    "    # RMSE 계산\n",
    "    rmse_three = mean_squared_error(extracted_real_band, extracted_three_band) ** 0.5\n",
    "    rmse_hien = mean_squared_error(extracted_real_band, extracted_hien_band) ** 0.5\n",
    "    rmse_r2 = mean_squared_error(extracted_real_band, extracted_r2_band) ** 0.5\n",
    "\n",
    "    # 상관 계수 계산\n",
    "    corr_coef_three = np.corrcoef(extracted_real_band.flatten(), extracted_three_band.flatten())[0, 1]\n",
    "    corr_coef_hien = np.corrcoef(extracted_real_band.flatten(), extracted_hien_band.flatten())[0, 1]\n",
    "    corr_coef_r2 = np.corrcoef(extracted_real_band.flatten(), extracted_r2_band.flatten())[0, 1]\n",
    "\n",
    "    # 출력\n",
    "    print(\"RMSE, Correlation Coefficient (hien):\", rmse_hien, corr_coef_hien, r2_score(extracted_real_band, extracted_hien_band))\n",
    "    print(\"RMSE, Correlation Coefficient (three):\", rmse_three, corr_coef_three, r2_score(extracted_real_band, extracted_three_band))\n",
    "    print(\"RMSE, Correlation Coefficient (r2):\", rmse_r2, corr_coef_r2, r2_score(extracted_real_band, extracted_r2_band))"
   ]
  },
  {
   "cell_type": "code",
   "execution_count": 36,
   "metadata": {},
   "outputs": [
    {
     "name": "stdout",
     "output_type": "stream",
     "text": [
      "회귀 계수: [0.5 0.5]\n",
      "절편: 1.5000000000000004\n"
     ]
    }
   ],
   "source": [
    "from sklearn.linear_model import LinearRegression\n",
    "\n",
    "# 회귀 모델 훈련\n",
    "X = [[1, 2], [2, 3], [3, 4]]  # 다중 특성 데이터\n",
    "y = [3, 4, 5]  # 타깃 데이터\n",
    "model = LinearRegression()\n",
    "model.fit(X, y)\n",
    "\n",
    "# 회귀 계수 확인\n",
    "coefficients = model.coef_\n",
    "intercept = model.intercept_\n",
    "print(\"회귀 계수:\", coefficients)\n",
    "print(\"절편:\", intercept)"
   ]
  },
  {
   "cell_type": "code",
   "execution_count": null,
   "metadata": {},
   "outputs": [],
   "source": []
  }
 ],
 "metadata": {
  "kernelspec": {
   "display_name": "gdal",
   "language": "python",
   "name": "python3"
  },
  "language_info": {
   "codemirror_mode": {
    "name": "ipython",
    "version": 3
   },
   "file_extension": ".py",
   "mimetype": "text/x-python",
   "name": "python",
   "nbconvert_exporter": "python",
   "pygments_lexer": "ipython3",
   "version": "3.7.15"
  },
  "orig_nbformat": 4
 },
 "nbformat": 4,
 "nbformat_minor": 2
}
